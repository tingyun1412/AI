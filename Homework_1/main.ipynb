{
 "cells": [
  {
   "cell_type": "code",
   "execution_count": 29,
   "id": "likely-spring",
   "metadata": {
    "colab": {
     "base_uri": "https://localhost:8080/"
    },
    "executionInfo": {
     "elapsed": 8073,
     "status": "ok",
     "timestamp": 1738555812469,
     "user": {
      "displayName": "林慧旻",
      "userId": "15332772837418726536"
     },
     "user_tz": -480
    },
    "id": "likely-spring",
    "outputId": "67ba0279-84a3-4c7b-95ae-5f282c23b958"
   },
   "outputs": [
    {
     "name": "stdout",
     "output_type": "stream",
     "text": [
      "Defaulting to user installation because normal site-packages is not writeable\n",
      "Requirement already satisfied: folium in c:\\users\\miche\\appdata\\local\\packages\\pythonsoftwarefoundation.python.3.12_qbz5n2kfra8p0\\localcache\\local-packages\\python312\\site-packages (0.19.5)\n",
      "Requirement already satisfied: branca>=0.6.0 in c:\\users\\miche\\appdata\\local\\packages\\pythonsoftwarefoundation.python.3.12_qbz5n2kfra8p0\\localcache\\local-packages\\python312\\site-packages (from folium) (0.8.1)\n",
      "Requirement already satisfied: jinja2>=2.9 in c:\\users\\miche\\appdata\\local\\packages\\pythonsoftwarefoundation.python.3.12_qbz5n2kfra8p0\\localcache\\local-packages\\python312\\site-packages (from folium) (3.1.4)\n",
      "Requirement already satisfied: numpy in c:\\users\\miche\\appdata\\local\\packages\\pythonsoftwarefoundation.python.3.12_qbz5n2kfra8p0\\localcache\\local-packages\\python312\\site-packages (from folium) (2.1.3)\n",
      "Requirement already satisfied: requests in c:\\users\\miche\\appdata\\local\\packages\\pythonsoftwarefoundation.python.3.12_qbz5n2kfra8p0\\localcache\\local-packages\\python312\\site-packages (from folium) (2.32.3)\n",
      "Requirement already satisfied: xyzservices in c:\\users\\miche\\appdata\\local\\packages\\pythonsoftwarefoundation.python.3.12_qbz5n2kfra8p0\\localcache\\local-packages\\python312\\site-packages (from folium) (2025.1.0)\n",
      "Requirement already satisfied: MarkupSafe>=2.0 in c:\\users\\miche\\appdata\\local\\packages\\pythonsoftwarefoundation.python.3.12_qbz5n2kfra8p0\\localcache\\local-packages\\python312\\site-packages (from jinja2>=2.9->folium) (3.0.2)\n",
      "Requirement already satisfied: charset-normalizer<4,>=2 in c:\\users\\miche\\appdata\\local\\packages\\pythonsoftwarefoundation.python.3.12_qbz5n2kfra8p0\\localcache\\local-packages\\python312\\site-packages (from requests->folium) (3.4.0)\n",
      "Requirement already satisfied: idna<4,>=2.5 in c:\\users\\miche\\appdata\\local\\packages\\pythonsoftwarefoundation.python.3.12_qbz5n2kfra8p0\\localcache\\local-packages\\python312\\site-packages (from requests->folium) (3.10)\n",
      "Requirement already satisfied: urllib3<3,>=1.21.1 in c:\\users\\miche\\appdata\\local\\packages\\pythonsoftwarefoundation.python.3.12_qbz5n2kfra8p0\\localcache\\local-packages\\python312\\site-packages (from requests->folium) (2.2.3)\n",
      "Requirement already satisfied: certifi>=2017.4.17 in c:\\users\\miche\\appdata\\local\\packages\\pythonsoftwarefoundation.python.3.12_qbz5n2kfra8p0\\localcache\\local-packages\\python312\\site-packages (from requests->folium) (2024.8.30)\n"
     ]
    },
    {
     "name": "stderr",
     "output_type": "stream",
     "text": [
      "\n",
      "[notice] A new release of pip is available: 24.3.1 -> 25.0.1\n",
      "[notice] To update, run: C:\\Users\\miche\\AppData\\Local\\Microsoft\\WindowsApps\\PythonSoftwareFoundation.Python.3.12_qbz5n2kfra8p0\\python.exe -m pip install --upgrade pip\n"
     ]
    }
   ],
   "source": [
    "# For Google Colab\n",
    "# Install folium package.\n",
    "!pip install folium"
   ]
  },
  {
   "cell_type": "code",
   "execution_count": 17,
   "id": "legislative-animal",
   "metadata": {
    "colab": {
     "base_uri": "https://localhost:8080/"
    },
    "executionInfo": {
     "elapsed": 4195,
     "status": "ok",
     "timestamp": 1738555932065,
     "user": {
      "displayName": "林慧旻",
      "userId": "15332772837418726536"
     },
     "user_tz": -480
    },
    "id": "legislative-animal",
    "outputId": "1c64f191-c156-4619-f1a0-0ce4550ae81a"
   },
   "outputs": [
    {
     "ename": "ModuleNotFoundError",
     "evalue": "No module named 'google'",
     "output_type": "error",
     "traceback": [
      "\u001b[31m---------------------------------------------------------------------------\u001b[39m",
      "\u001b[31mModuleNotFoundError\u001b[39m                       Traceback (most recent call last)",
      "\u001b[36mCell\u001b[39m\u001b[36m \u001b[39m\u001b[32mIn[17]\u001b[39m\u001b[32m, line 4\u001b[39m\n\u001b[32m      1\u001b[39m \u001b[38;5;66;03m# For Google Colab\u001b[39;00m\n\u001b[32m      2\u001b[39m \u001b[38;5;66;03m# Mount your Google drive and copy all files from \"AI_HW2\" directory\u001b[39;00m\n\u001b[32m      3\u001b[39m \u001b[38;5;66;03m# in your Google drive to current directory.\u001b[39;00m\n\u001b[32m----> \u001b[39m\u001b[32m4\u001b[39m \u001b[38;5;28;01mfrom\u001b[39;00m\u001b[38;5;250m \u001b[39m\u001b[34;01mgoogle\u001b[39;00m\u001b[34;01m.\u001b[39;00m\u001b[34;01mcolab\u001b[39;00m\u001b[38;5;250m \u001b[39m\u001b[38;5;28;01mimport\u001b[39;00m drive\n\u001b[32m      5\u001b[39m drive.mount(\u001b[33m'\u001b[39m\u001b[33m/content/gdrive\u001b[39m\u001b[33m'\u001b[39m, force_remount=\u001b[38;5;28;01mTrue\u001b[39;00m)\n\u001b[32m      6\u001b[39m get_ipython().system(\u001b[33m'\u001b[39m\u001b[33mcp -r ./gdrive/MyDrive/AI_HW2/AI_HW1/code/* .\u001b[39m\u001b[33m'\u001b[39m)\n",
      "\u001b[31mModuleNotFoundError\u001b[39m: No module named 'google'"
     ]
    }
   ],
   "source": [
    "# For Google Colab\n",
    "# Mount your Google drive and copy all files from \"AI_HW2\" directory\n",
    "# in your Google drive to current directory.\n",
    "from google.colab import drive\n",
    "drive.mount('/content/gdrive', force_remount=True)\n",
    "!cp -r ./gdrive/MyDrive/AI_HW2/AI_HW1/code/* ."
   ]
  },
  {
   "cell_type": "code",
   "execution_count": 30,
   "id": "legitimate-luxury",
   "metadata": {
    "executionInfo": {
     "elapsed": 3,
     "status": "ok",
     "timestamp": 1738555932065,
     "user": {
      "displayName": "林慧旻",
      "userId": "15332772837418726536"
     },
     "user_tz": -480
    },
    "id": "legitimate-luxury"
   },
   "outputs": [
    {
     "ename": "ModuleNotFoundError",
     "evalue": "No module named 'folium'",
     "output_type": "error",
     "traceback": [
      "\u001b[31m---------------------------------------------------------------------------\u001b[39m",
      "\u001b[31mModuleNotFoundError\u001b[39m                       Traceback (most recent call last)",
      "\u001b[36mCell\u001b[39m\u001b[36m \u001b[39m\u001b[32mIn[30]\u001b[39m\u001b[32m, line 3\u001b[39m\n\u001b[32m      1\u001b[39m \u001b[38;5;66;03m# Don't change this part.\u001b[39;00m\n\u001b[32m      2\u001b[39m \u001b[38;5;66;03m# For load graph information and show map\u001b[39;00m\n\u001b[32m----> \u001b[39m\u001b[32m3\u001b[39m \u001b[38;5;28;01mimport\u001b[39;00m\u001b[38;5;250m \u001b[39m\u001b[34;01mfolium\u001b[39;00m\n\u001b[32m      4\u001b[39m \u001b[38;5;28;01mimport\u001b[39;00m\u001b[38;5;250m \u001b[39m\u001b[34;01mpickle\u001b[39;00m\n\u001b[32m      5\u001b[39m \u001b[38;5;28;01mdef\u001b[39;00m\u001b[38;5;250m \u001b[39m\u001b[34mload_path_graph\u001b[39m(path):\n",
      "\u001b[31mModuleNotFoundError\u001b[39m: No module named 'folium'"
     ]
    }
   ],
   "source": [
    "# Don't change this part.\n",
    "# For load graph information and show map\n",
    "import folium\n",
    "import pickle\n",
    "def load_path_graph(path):\n",
    "    with open('graph.pkl', 'rb') as f:\n",
    "        graph = pickle.load(f)\n",
    "\n",
    "    node_pairs = list(zip(path[:-1], path[1:]))\n",
    "    lines = []\n",
    "    for edge in graph:\n",
    "        if (edge['u'], edge['v']) in node_pairs or  (edge['v'], edge['u']) in node_pairs:\n",
    "            lines.append(edge['geometry'])\n",
    "    return lines"
   ]
  },
  {
   "cell_type": "code",
   "execution_count": null,
   "id": "functioning-photograph",
   "metadata": {
    "executionInfo": {
     "elapsed": 314,
     "status": "ok",
     "timestamp": 1738556167807,
     "user": {
      "displayName": "林慧旻",
      "userId": "15332772837418726536"
     },
     "user_tz": -480
    },
    "id": "functioning-photograph"
   },
   "outputs": [
    {
     "name": "stdout",
     "output_type": "stream",
     "text": [
      "The history saving thread hit an unexpected error (OperationalError('database or disk is full')).History will not be written to the database.\n"
     ]
    }
   ],
   "source": [
    "# Part 1~4 and 6\n",
    "# You can wirte in new .py files and import it.\n",
    "# ex: from astar import astar\n",
    "\n",
    "from bfs import bfs\n",
    "from dfs_stack import dfs\n",
    "#from dfs_recursive import dfs\n",
    "from ucs import ucs\n",
    "from astar import astar"
   ]
  },
  {
   "cell_type": "code",
   "execution_count": null,
   "id": "collective-martin",
   "metadata": {
    "executionInfo": {
     "elapsed": 1,
     "status": "ok",
     "timestamp": 1738556168613,
     "user": {
      "displayName": "林慧旻",
      "userId": "15332772837418726536"
     },
     "user_tz": -480
    },
    "id": "collective-martin"
   },
   "outputs": [],
   "source": [
    "# Part 5\n",
    "# Change start ID and end ID.\n",
    "start = 426882161\n",
    "end = 1737223506 #1079387396"
   ]
  },
  {
   "cell_type": "code",
   "execution_count": null,
   "id": "fxwE1mRZrLkS",
   "metadata": {
    "executionInfo": {
     "elapsed": 1,
     "status": "ok",
     "timestamp": 1738556169029,
     "user": {
      "displayName": "林慧旻",
      "userId": "15332772837418726536"
     },
     "user_tz": -480
    },
    "id": "fxwE1mRZrLkS"
   },
   "outputs": [],
   "source": [
    "import sys\n",
    "sys.setrecursionlimit(10000)"
   ]
  },
  {
   "cell_type": "code",
   "execution_count": null,
   "id": "burning-green",
   "metadata": {
    "colab": {
     "base_uri": "https://localhost:8080/",
     "height": 1000
    },
    "executionInfo": {
     "elapsed": 693,
     "status": "ok",
     "timestamp": 1738556170470,
     "user": {
      "displayName": "林慧旻",
      "userId": "15332772837418726536"
     },
     "user_tz": -480
    },
    "id": "burning-green",
    "outputId": "ae1491f6-e7d2-44a5-cdc3-1717e8e43180",
    "scrolled": false
   },
   "outputs": [
    {
     "name": "stdout",
     "output_type": "stream",
     "text": [
      "The number of nodes in the path found by BFS: 60\n",
      "Total distance of path found by BFS: 4215.521 m\n",
      "The number of visited nodes in BFS: 4606\n",
      "\n"
     ]
    },
    {
     "ename": "NameError",
     "evalue": "name 'folium' is not defined",
     "output_type": "error",
     "traceback": [
      "\u001b[31m---------------------------------------------------------------------------\u001b[39m",
      "\u001b[31mNameError\u001b[39m                                 Traceback (most recent call last)",
      "\u001b[36mCell\u001b[39m\u001b[36m \u001b[39m\u001b[32mIn[12]\u001b[39m\u001b[32m, line 8\u001b[39m\n\u001b[32m      5\u001b[39m \u001b[38;5;28mprint\u001b[39m(\u001b[33mf\u001b[39m\u001b[33m'\u001b[39m\u001b[33mTotal distance of path found by BFS: \u001b[39m\u001b[38;5;132;01m{\u001b[39;00mbfs_dist\u001b[38;5;132;01m}\u001b[39;00m\u001b[33m m\u001b[39m\u001b[33m'\u001b[39m)\n\u001b[32m      6\u001b[39m \u001b[38;5;28mprint\u001b[39m(\u001b[33mf\u001b[39m\u001b[33m'\u001b[39m\u001b[33mThe number of visited nodes in BFS: \u001b[39m\u001b[38;5;132;01m{\u001b[39;00mbfs_visited\u001b[38;5;132;01m}\u001b[39;00m\u001b[38;5;130;01m\\n\u001b[39;00m\u001b[33m'\u001b[39m)\n\u001b[32m----> \u001b[39m\u001b[32m8\u001b[39m fmap = \u001b[43mfolium\u001b[49m.Map(location=(\u001b[32m24.806383132251874\u001b[39m, \u001b[32m120.97685775516189\u001b[39m), zoom_start=\u001b[32m13\u001b[39m)\n\u001b[32m      9\u001b[39m \u001b[38;5;28;01mfor\u001b[39;00m line \u001b[38;5;129;01min\u001b[39;00m load_path_graph(bfs_path):\n\u001b[32m     10\u001b[39m     fmap.add_child(folium.PolyLine(locations=line, tooltip=\u001b[33m'\u001b[39m\u001b[33mbfs\u001b[39m\u001b[33m'\u001b[39m, weight=\u001b[32m4\u001b[39m, color=\u001b[33m'\u001b[39m\u001b[33mblue\u001b[39m\u001b[33m'\u001b[39m))\n",
      "\u001b[31mNameError\u001b[39m: name 'folium' is not defined"
     ]
    }
   ],
   "source": [
    "# Don't change this part.\n",
    "# Show the result of BFS\n",
    "bfs_path, bfs_dist, bfs_visited = bfs(start, end)\n",
    "print(f'The number of nodes in the path found by BFS: {len(bfs_path)}')\n",
    "print(f'Total distance of path found by BFS: {bfs_dist} m')\n",
    "print(f'The number of visited nodes in BFS: {bfs_visited}\\n')\n",
    "\n",
    "fmap = folium.Map(location=(24.806383132251874, 120.97685775516189), zoom_start=13)\n",
    "for line in load_path_graph(bfs_path):\n",
    "    fmap.add_child(folium.PolyLine(locations=line, tooltip='bfs', weight=4, color='blue'))\n",
    "fmap"
   ]
  },
  {
   "cell_type": "code",
   "execution_count": null,
   "id": "dirty-strip",
   "metadata": {
    "colab": {
     "base_uri": "https://localhost:8080/",
     "height": 1000
    },
    "executionInfo": {
     "elapsed": 5158,
     "status": "ok",
     "timestamp": 1738556177376,
     "user": {
      "displayName": "林慧旻",
      "userId": "15332772837418726536"
     },
     "user_tz": -480
    },
    "id": "dirty-strip",
    "outputId": "a156e4b0-416a-4ee3-e627-a810a0afdea6"
   },
   "outputs": [],
   "source": [
    "# Don't change this part.\n",
    "# Show the result of DFS\n",
    "dfs_path, dfs_dist, dfs_visited = dfs(start, end)\n",
    "print(f'The number of nodes in the path found by DFS: {len(dfs_path)}')\n",
    "print(f'Total distance of path found by DFS: {dfs_dist} m')\n",
    "print(f'The number of visited nodes in DFS: {dfs_visited}\\n')\n",
    "\n",
    "fmap = folium.Map(location=(24.806383132251874, 120.97685775516189), zoom_start=13)\n",
    "for line in load_path_graph(dfs_path):\n",
    "    fmap.add_child(folium.PolyLine(locations=line, tooltip='dfs', weight=4, color='green'))\n",
    "fmap"
   ]
  },
  {
   "cell_type": "code",
   "execution_count": null,
   "id": "vnXK7GQMoYbk",
   "metadata": {
    "colab": {
     "base_uri": "https://localhost:8080/",
     "height": 1000
    },
    "executionInfo": {
     "elapsed": 4223,
     "status": "ok",
     "timestamp": 1738556187995,
     "user": {
      "displayName": "林慧旻",
      "userId": "15332772837418726536"
     },
     "user_tz": -480
    },
    "id": "vnXK7GQMoYbk",
    "outputId": "80d1fa68-aa2e-45d2-ccf7-aafedf33d4e3"
   },
   "outputs": [],
   "source": [
    "# Don't change this part.\n",
    "# Show the result of DFS\n",
    "from dfs_stack import dfs\n",
    "dfs_path, dfs_dist, dfs_visited = dfs(start, end)\n",
    "print(f'The number of nodes in the path found by DFS: {len(dfs_path)}')\n",
    "print(f'Total distance of path found by DFS: {dfs_dist} m')\n",
    "print(f'The number of visited nodes in DFS: {dfs_visited}\\n')\n",
    "\n",
    "fmap = folium.Map(location=(24.806383132251874, 120.97685775516189), zoom_start=13)\n",
    "for line in load_path_graph(dfs_path):\n",
    "    fmap.add_child(folium.PolyLine(locations=line, tooltip='dfs', weight=4, color='green'))\n",
    "fmap"
   ]
  },
  {
   "cell_type": "code",
   "execution_count": null,
   "id": "broke-target",
   "metadata": {
    "colab": {
     "base_uri": "https://localhost:8080/",
     "height": 1000
    },
    "executionInfo": {
     "elapsed": 724,
     "status": "ok",
     "timestamp": 1738556200471,
     "user": {
      "displayName": "林慧旻",
      "userId": "15332772837418726536"
     },
     "user_tz": -480
    },
    "id": "broke-target",
    "outputId": "d9bdfe58-5ecd-4ffd-dc7c-b07d02d2ad25"
   },
   "outputs": [],
   "source": [
    "# Don't change this part.\n",
    "# Show the result of UCS\n",
    "ucs_path, ucs_dist, ucs_visited = ucs(start, end)\n",
    "print(f'The number of nodes in the path found by UCS: {len(ucs_path)}')\n",
    "print(f'Total distance of path found by UCS: {ucs_dist} m')\n",
    "print(f'The number of visited nodes in UCS: {ucs_visited}\\n')\n",
    "\n",
    "fmap = folium.Map(location=(24.806383132251874, 120.97685775516189), zoom_start=13)\n",
    "for line in load_path_graph(ucs_path):\n",
    "    fmap.add_child(folium.PolyLine(locations=line, tooltip='ucs', weight=4, color='violet'))\n",
    "fmap"
   ]
  },
  {
   "cell_type": "code",
   "execution_count": null,
   "id": "stable-lightweight",
   "metadata": {
    "colab": {
     "base_uri": "https://localhost:8080/",
     "height": 1000
    },
    "executionInfo": {
     "elapsed": 732,
     "status": "ok",
     "timestamp": 1738556435046,
     "user": {
      "displayName": "林慧旻",
      "userId": "15332772837418726536"
     },
     "user_tz": -480
    },
    "id": "stable-lightweight",
    "outputId": "23e9d24f-60ce-4958-d2a9-2a47e504d81b"
   },
   "outputs": [],
   "source": [
    "# Don't change this part.\n",
    "# Show the result of A* search\n",
    "astar_path, astar_dist, astar_visited = astar(start, end)\n",
    "print(f'The number of nodes in the path found by A* search: {len(astar_path)}')\n",
    "print(f'Total distance of path found by A* search: {astar_dist} m')\n",
    "print(f'The number of visited nodes in A* search: {astar_visited}\\n')\n",
    "\n",
    "fmap = folium.Map(location=(24.806383132251874, 120.97685775516189), zoom_start=13)\n",
    "for line in load_path_graph(astar_path):\n",
    "    fmap.add_child(folium.PolyLine(locations=line, tooltip='astar', weight=4, color='red'))\n",
    "fmap"
   ]
  }
 ],
 "metadata": {
  "colab": {
   "provenance": []
  },
  "kernelspec": {
   "display_name": "Python 3",
   "language": "python",
   "name": "python3"
  },
  "language_info": {
   "codemirror_mode": {
    "name": "ipython",
    "version": 3
   },
   "file_extension": ".py",
   "mimetype": "text/x-python",
   "name": "python",
   "nbconvert_exporter": "python",
   "pygments_lexer": "ipython3",
   "version": "3.11.5"
  }
 },
 "nbformat": 4,
 "nbformat_minor": 5
}
